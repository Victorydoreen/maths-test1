{
 "cells": [
  {
   "cell_type": "markdown",
   "id": "d9a60a87",
   "metadata": {},
   "source": [
    "NAME:NAMYENYA DOREEN\n",
    "REG NO. : 2022/DCSE/029/SS\n",
    "    MATHS TEST"
   ]
  },
  {
   "cell_type": "code",
   "execution_count": 2,
   "id": "6eda4ff1",
   "metadata": {},
   "outputs": [],
   "source": [
    "import numpy as np\n",
    "import matplotlib.pyplot as plt"
   ]
  },
  {
   "cell_type": "markdown",
   "id": "35ed9f79",
   "metadata": {},
   "source": [
    "SECTION 1\n",
    "#Multiple Choice Exercises: Calculate and Select your best solution (Each Question is one Mark)\n",
    "# 1\n",
    "A\n",
    "\n",
    "#2\n",
    "D\n",
    "\n",
    "#3\n",
    "D\n",
    "\n",
    "#4\n",
    "A\n",
    "\n",
    "#5\n",
    "C\n",
    "\n",
    "#6\n",
    "D\n",
    "\n",
    "#7\n",
    "A\n",
    "\n",
    "#8\n",
    "A, I agree that they are independent, because those that do not live on campus got more As,80 than those that do not live on campus(40)As\n",
    "\n",
    "#9\n",
    "D\n",
    "\n",
    "#10a\n",
    "B\n",
    "\n",
    "#10b\n",
    "a\n",
    "\n",
    "\n"
   ]
  },
  {
   "cell_type": "markdown",
   "id": "fe8eacc5",
   "metadata": {},
   "source": [
    "SECTION2\n",
    "\n",
    "QUESTION 6\n",
    "\n"
   ]
  },
  {
   "cell_type": "code",
   "execution_count": 5,
   "id": "0e37a367",
   "metadata": {},
   "outputs": [
    {
     "data": {
      "text/plain": [
       "array([[1. , 0.2, 0.5],\n",
       "       [0.2, 1. , 0.8],\n",
       "       [0.5, 0.8, 1. ]])"
      ]
     },
     "execution_count": 5,
     "metadata": {},
     "output_type": "execute_result"
    }
   ],
   "source": [
    "#say numpy array A\n",
    "A=np.array(([1,0.2,0.5],[0.2,1,0.8],[0.5,0.8,1]))\n",
    "A"
   ]
  },
  {
   "cell_type": "code",
   "execution_count": 6,
   "id": "6884833d",
   "metadata": {},
   "outputs": [
    {
     "data": {
      "text/plain": [
       "array([[1. , 0.2, 0.5],\n",
       "       [0.2, 1. , 0.8],\n",
       "       [0.5, 0.8, 1. ]])"
      ]
     },
     "execution_count": 6,
     "metadata": {},
     "output_type": "execute_result"
    }
   ],
   "source": [
    "#transpose of A\n",
    "A.transpose()"
   ]
  },
  {
   "cell_type": "code",
   "execution_count": 15,
   "id": "1785bc80",
   "metadata": {
    "scrolled": true
   },
   "outputs": [
    {
     "name": "stdout",
     "output_type": "stream",
     "text": [
      "[[ 1.56521739  0.86956522 -1.47826087]\n",
      " [ 0.86956522  3.26086957 -3.04347826]\n",
      " [-1.47826087 -3.04347826  4.17391304]]\n"
     ]
    }
   ],
   "source": [
    "\n",
    "# An Inversion of the matrix Transpose\n",
    "import numpy as np\n",
    "\n",
    "#Taking a 3 * 3 matrix\n",
    "A = np.array([[1, 0.2, 0.5],\n",
    "              [0.2, 1, 0.8],\n",
    "              [0.5, 0.8, 1]])\n",
    "  \n",
    "# Calculating the inverse of the matrix\n",
    "print(np.linalg.inv(A))\n"
   ]
  },
  {
   "cell_type": "code",
   "execution_count": 24,
   "id": "7a4ab3e0",
   "metadata": {
    "scrolled": true
   },
   "outputs": [
    {
     "name": "stdout",
     "output_type": "stream",
     "text": [
      "\n",
      "Determinant of given 3X3 square matrix:\n",
      "0\n"
     ]
    }
   ],
   "source": [
    "\n",
    "import numpy as np\n",
    "  \n",
    "# using a 3X3 Numpy matrix A\n",
    "A = np.array([[1, 0.2, 0.5],\n",
    "              [0.2, 1, 0.8],\n",
    "              [0.5, 0.8, 1]])\n",
    "  \n",
    "# calculating the determinant of matrix\n",
    "det = np.linalg.det(A)\n",
    "  \n",
    "print(\"\\nDeterminant of given 3X3 square matrix:\")\n",
    "print(int(det))"
   ]
  },
  {
   "cell_type": "markdown",
   "id": "0ef77bb9",
   "metadata": {},
   "source": [
    "Question 5\n",
    "Given an n-darray X = np.array([[25, 2], [5, 26], [3, 7]])\n",
    "Generate its shape\n",
    "What is the transpose of the array\n",
    "Generate a new n-darray of X scaled up by integer 3 (Hint: note that scalars are applied on each element of a matrix)\n",
    "Generate a new matrix A = ([[3, 4], [5, 6], [7, 8]]). Compute the matrix multiplication of matrices X and A (note the condition for matrix multiplication must satisfy a certain rule)\n",
    "Compute the inverse of the result of multiplication of matrices (A and X)\n"
   ]
  },
  {
   "cell_type": "code",
   "execution_count": 43,
   "id": "bfc7fb31",
   "metadata": {},
   "outputs": [
    {
     "data": {
      "text/plain": [
       "array([[25,  2],\n",
       "       [ 5, 26],\n",
       "       [ 3,  7]])"
      ]
     },
     "execution_count": 43,
     "metadata": {},
     "output_type": "execute_result"
    }
   ],
   "source": [
    "\n",
    "            \n",
    "X=np.array([[25,2],[5,26],[3,7]]) \n",
    "X\n",
    "#shape of X\n",
    "(3,2)\n",
    "\n"
   ]
  },
  {
   "cell_type": "code",
   "execution_count": 27,
   "id": "d5f7ffff",
   "metadata": {},
   "outputs": [
    {
     "data": {
      "text/plain": [
       "array([[3, 4],\n",
       "       [5, 6],\n",
       "       [7, 8]])"
      ]
     },
     "execution_count": 27,
     "metadata": {},
     "output_type": "execute_result"
    }
   ],
   "source": [
    "#5 part 4, generating a new matrix\n",
    "A=np.array([[3,4],[5,6],[7,8]])\n",
    "A\n"
   ]
  },
  {
   "cell_type": "code",
   "execution_count": 34,
   "id": "8abc7999",
   "metadata": {},
   "outputs": [
    {
     "data": {
      "text/plain": [
       "array([[ 83, 137, 191],\n",
       "       [119, 181, 243],\n",
       "       [ 37,  57,  77]])"
      ]
     },
     "execution_count": 34,
     "metadata": {},
     "output_type": "execute_result"
    }
   ],
   "source": [
    "#Matrix multiplication of matrices X and A, only possible if we transpose A\n",
    "b=A.transpose()\n",
    "b\n",
    "#multiplication of matrices X and b(transpose of A)\n",
    "\n",
    "c=X.dot(b)\n",
    "c\n"
   ]
  },
  {
   "cell_type": "code",
   "execution_count": 37,
   "id": "804e41f5",
   "metadata": {},
   "outputs": [
    {
     "ename": "LinAlgError",
     "evalue": "Singular matrix",
     "output_type": "error",
     "traceback": [
      "\u001b[1;31m---------------------------------------------------------------------------\u001b[0m",
      "\u001b[1;31mLinAlgError\u001b[0m                               Traceback (most recent call last)",
      "Input \u001b[1;32mIn [37]\u001b[0m, in \u001b[0;36m<cell line: 10>\u001b[1;34m()\u001b[0m\n\u001b[0;32m      5\u001b[0m C\u001b[38;5;241m=\u001b[39mnp\u001b[38;5;241m.\u001b[39marray([[\u001b[38;5;241m83\u001b[39m,\u001b[38;5;241m137\u001b[39m,\u001b[38;5;241m191\u001b[39m],\n\u001b[0;32m      6\u001b[0m            [\u001b[38;5;241m119\u001b[39m,\u001b[38;5;241m181\u001b[39m,\u001b[38;5;241m243\u001b[39m],\n\u001b[0;32m      7\u001b[0m            [\u001b[38;5;241m37\u001b[39m,\u001b[38;5;241m57\u001b[39m,\u001b[38;5;241m77\u001b[39m]])\n\u001b[0;32m      9\u001b[0m \u001b[38;5;66;03m#Calculating the inverse of a 3*3 matrix\u001b[39;00m\n\u001b[1;32m---> 10\u001b[0m \u001b[38;5;28mprint\u001b[39m(\u001b[43mnp\u001b[49m\u001b[38;5;241;43m.\u001b[39;49m\u001b[43mlinalg\u001b[49m\u001b[38;5;241;43m.\u001b[39;49m\u001b[43minv\u001b[49m\u001b[43m(\u001b[49m\u001b[43mC\u001b[49m\u001b[43m)\u001b[49m)\n",
      "File \u001b[1;32m<__array_function__ internals>:5\u001b[0m, in \u001b[0;36minv\u001b[1;34m(*args, **kwargs)\u001b[0m\n",
      "File \u001b[1;32mG:\\Users\\HIVE\\anaconda3\\lib\\site-packages\\numpy\\linalg\\linalg.py:545\u001b[0m, in \u001b[0;36minv\u001b[1;34m(a)\u001b[0m\n\u001b[0;32m    543\u001b[0m signature \u001b[38;5;241m=\u001b[39m \u001b[38;5;124m'\u001b[39m\u001b[38;5;124mD->D\u001b[39m\u001b[38;5;124m'\u001b[39m \u001b[38;5;28;01mif\u001b[39;00m isComplexType(t) \u001b[38;5;28;01melse\u001b[39;00m \u001b[38;5;124m'\u001b[39m\u001b[38;5;124md->d\u001b[39m\u001b[38;5;124m'\u001b[39m\n\u001b[0;32m    544\u001b[0m extobj \u001b[38;5;241m=\u001b[39m get_linalg_error_extobj(_raise_linalgerror_singular)\n\u001b[1;32m--> 545\u001b[0m ainv \u001b[38;5;241m=\u001b[39m \u001b[43m_umath_linalg\u001b[49m\u001b[38;5;241;43m.\u001b[39;49m\u001b[43minv\u001b[49m\u001b[43m(\u001b[49m\u001b[43ma\u001b[49m\u001b[43m,\u001b[49m\u001b[43m \u001b[49m\u001b[43msignature\u001b[49m\u001b[38;5;241;43m=\u001b[39;49m\u001b[43msignature\u001b[49m\u001b[43m,\u001b[49m\u001b[43m \u001b[49m\u001b[43mextobj\u001b[49m\u001b[38;5;241;43m=\u001b[39;49m\u001b[43mextobj\u001b[49m\u001b[43m)\u001b[49m\n\u001b[0;32m    546\u001b[0m \u001b[38;5;28;01mreturn\u001b[39;00m wrap(ainv\u001b[38;5;241m.\u001b[39mastype(result_t, copy\u001b[38;5;241m=\u001b[39m\u001b[38;5;28;01mFalse\u001b[39;00m))\n",
      "File \u001b[1;32mG:\\Users\\HIVE\\anaconda3\\lib\\site-packages\\numpy\\linalg\\linalg.py:88\u001b[0m, in \u001b[0;36m_raise_linalgerror_singular\u001b[1;34m(err, flag)\u001b[0m\n\u001b[0;32m     87\u001b[0m \u001b[38;5;28;01mdef\u001b[39;00m \u001b[38;5;21m_raise_linalgerror_singular\u001b[39m(err, flag):\n\u001b[1;32m---> 88\u001b[0m     \u001b[38;5;28;01mraise\u001b[39;00m LinAlgError(\u001b[38;5;124m\"\u001b[39m\u001b[38;5;124mSingular matrix\u001b[39m\u001b[38;5;124m\"\u001b[39m)\n",
      "\u001b[1;31mLinAlgError\u001b[0m: Singular matrix"
     ]
    }
   ],
   "source": [
    "#inverse of the result of multiplication\n",
    "import numpy as np\n",
    "#taking a 3*3 matrix\n",
    "\n",
    "C=np.array([[83,137,191],\n",
    "           [119,181,243],\n",
    "           [37,57,77]])\n",
    "\n",
    "#Calculating the inverse of a 3*3 matrix\n",
    "print(np.linalg.inv(C))"
   ]
  },
  {
   "cell_type": "markdown",
   "id": "6f2fc790",
   "metadata": {},
   "source": [
    "Question 4: \n",
    "Given an n-dim array with enteries: 25, 2, 5;\n",
    "Generate a numpy array x from the given entries\n",
    "What is the shape of the array x\n",
    "What is its transpose\n",
    "Compute its  𝐿2  Norm\n"
   ]
  },
  {
   "cell_type": "code",
   "execution_count": 38,
   "id": "d4f8d90b",
   "metadata": {},
   "outputs": [
    {
     "data": {
      "text/plain": [
       "array([25,  2,  5])"
      ]
     },
     "execution_count": 38,
     "metadata": {},
     "output_type": "execute_result"
    }
   ],
   "source": [
    "#generating a numpy array x\n",
    "X=np.array([25,2,5])\n",
    "X"
   ]
  },
  {
   "cell_type": "code",
   "execution_count": 44,
   "id": "c14da5f5",
   "metadata": {},
   "outputs": [
    {
     "data": {
      "text/plain": [
       "(1, 3)"
      ]
     },
     "execution_count": 44,
     "metadata": {},
     "output_type": "execute_result"
    }
   ],
   "source": [
    "# Shape of the array X\n",
    "(1,3)"
   ]
  },
  {
   "cell_type": "code",
   "execution_count": 46,
   "id": "76aa766a",
   "metadata": {},
   "outputs": [
    {
     "data": {
      "text/plain": [
       "array([[25,  5,  3],\n",
       "       [ 2, 26,  7]])"
      ]
     },
     "execution_count": 46,
     "metadata": {},
     "output_type": "execute_result"
    }
   ],
   "source": [
    "#transpose of array X\n",
    "m=X.transpose()\n",
    "m"
   ]
  },
  {
   "cell_type": "code",
   "execution_count": null,
   "id": "3523830f",
   "metadata": {},
   "outputs": [],
   "source": [
    "# Computing its L2 Norm\n"
   ]
  },
  {
   "cell_type": "markdown",
   "id": "53e7d355",
   "metadata": {},
   "source": [
    "Question 2\n",
    "Assuming heads = 1 and tails = 0, \n",
    "what’s the expected value of the toss of a fair coin?\n",
    "...and of two tosses of a fair coin?\n",
    "You are one of a thousand people to purchase a lottery ticket. The ticket costs $10 and pays out $5000. What value should you expect from this transaction?"
   ]
  },
  {
   "cell_type": "code",
   "execution_count": null,
   "id": "0ebdb1d9",
   "metadata": {},
   "outputs": [],
   "source": [
    "#Expected value of the toss of a fair coin\n",
    "fair coin has a probablity of 0.5\n",
    "Expected value=np\n",
    "=1*0.5\n",
    "=0.5\n",
    "\n"
   ]
  },
  {
   "cell_type": "code",
   "execution_count": null,
   "id": "0b97afbe",
   "metadata": {},
   "outputs": [],
   "source": [
    "#for 2 tosses of a fair coin\n",
    "Expected value=2*0.5\n",
    "=1"
   ]
  },
  {
   "cell_type": "markdown",
   "id": "a3a6a313",
   "metadata": {},
   "source": [
    "7. Compute the Mean, variance, median, mode of a uniform random variable\n"
   ]
  },
  {
   "cell_type": "code",
   "execution_count": null,
   "id": "f6bf0a66",
   "metadata": {},
   "outputs": [],
   "source": [
    "# Mean of a uniform random  variable\n",
    "f(x)=1/(b-a),if a<=x<=b\n",
    "E(x)=integral(x/b-a)dx,0 to 1\n",
    "E(x)=(b+a)/2\n",
    "E(x)=(1+0)/2=(1/2)=0.5\n",
    "\n",
    "# variance of a uniform random  variable\n",
    "E(x^2)=integral(x^2/b-a)dx,0 to 1\n",
    "E(x)=(b-a)^2/12\n",
    "E(x)=(1-0)^2/12=(1/12)=0.083\n",
    "\n",
    "# median\n",
    "\n",
    "#mode\n"
   ]
  }
 ],
 "metadata": {
  "kernelspec": {
   "display_name": "Python 3 (ipykernel)",
   "language": "python",
   "name": "python3"
  },
  "language_info": {
   "codemirror_mode": {
    "name": "ipython",
    "version": 3
   },
   "file_extension": ".py",
   "mimetype": "text/x-python",
   "name": "python",
   "nbconvert_exporter": "python",
   "pygments_lexer": "ipython3",
   "version": "3.9.12"
  }
 },
 "nbformat": 4,
 "nbformat_minor": 5
}
